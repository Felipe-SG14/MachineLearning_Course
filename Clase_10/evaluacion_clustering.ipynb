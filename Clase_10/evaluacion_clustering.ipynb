{
 "cells": [
  {
   "cell_type": "markdown",
   "metadata": {},
   "source": [
    "# Clase 10 - Evaluación de Clustering\n",
    "\n",
    "KNN: K-Nearest Neighbors o K vecinos más cercanos"
   ]
  },
  {
   "cell_type": "markdown",
   "metadata": {},
   "source": [
    "## Carga de Librerías"
   ]
  },
  {
   "cell_type": "code",
   "execution_count": 1,
   "metadata": {},
   "outputs": [],
   "source": [
    "import pandas as pd\n",
    "import numpy as np\n",
    "import matplotlib\n",
    "import matplotlib.pyplot as plt\n",
    "\n",
    "matplotlib.rcParams['figure.figsize'] = [10, 10]\n",
    "np.random.seed(42)\n",
    "\n",
    "from sklearn.datasets import fetch_20newsgroups_vectorized, fetch_20newsgroups"
   ]
  },
  {
   "cell_type": "markdown",
   "metadata": {},
   "source": [
    "## Ejercicio"
   ]
  },
  {
   "cell_type": "code",
   "execution_count": 2,
   "metadata": {},
   "outputs": [
    {
     "data": {
      "text/plain": [
       "<11314x130107 sparse matrix of type '<class 'numpy.float64'>'\n",
       "\twith 1787565 stored elements in Compressed Sparse Row format>"
      ]
     },
     "execution_count": 2,
     "metadata": {},
     "output_type": "execute_result"
    }
   ],
   "source": [
    "news_20 = fetch_20newsgroups()\n",
    "datos = fetch_20newsgroups_vectorized()\n",
    "noticias = datos.data\n",
    "noticias"
   ]
  },
  {
   "cell_type": "code",
   "execution_count": 4,
   "metadata": {},
   "outputs": [
    {
     "data": {
      "text/plain": [
       "['alt.atheism',\n",
       " 'comp.graphics',\n",
       " 'comp.os.ms-windows.misc',\n",
       " 'comp.sys.ibm.pc.hardware',\n",
       " 'comp.sys.mac.hardware',\n",
       " 'comp.windows.x',\n",
       " 'misc.forsale',\n",
       " 'rec.autos',\n",
       " 'rec.motorcycles',\n",
       " 'rec.sport.baseball',\n",
       " 'rec.sport.hockey',\n",
       " 'sci.crypt',\n",
       " 'sci.electronics',\n",
       " 'sci.med',\n",
       " 'sci.space',\n",
       " 'soc.religion.christian',\n",
       " 'talk.politics.guns',\n",
       " 'talk.politics.mideast',\n",
       " 'talk.politics.misc',\n",
       " 'talk.religion.misc']"
      ]
     },
     "execution_count": 4,
     "metadata": {},
     "output_type": "execute_result"
    }
   ],
   "source": [
    "#CLASIFICACIONES QUE TIENE\n",
    "datos.target_names"
   ]
  },
  {
   "cell_type": "markdown",
   "metadata": {},
   "source": [
    "VEMOS QUE EL DATASET TIENE 20 CLUSTERS NATURALES (20 PAGINAS DE NOTICIAS DISTINTAS)"
   ]
  },
  {
   "cell_type": "code",
   "execution_count": 6,
   "metadata": {},
   "outputs": [
    {
     "data": {
      "text/plain": [
       "array([5, 5, 4, ..., 0, 3, 2])"
      ]
     },
     "execution_count": 6,
     "metadata": {},
     "output_type": "execute_result"
    }
   ],
   "source": [
    "from sklearn.cluster import MiniBatchKMeans\n",
    "\n",
    "#NO LE IMPORTA LAS CLASIFICACIONES A PRIORI\n",
    "estimador = MiniBatchKMeans(n_clusters=20)\n",
    "#SE LLENA CON LOS DATOS DE LA TABLA\n",
    "estimador.fit(noticias)\n",
    "#SE OBTIENE LA CLASIFICICACION DE CLUSTER CADA CADA ELEMENTO\n",
    "etiquetas_pred = estimador.labels_\n",
    "etiquetas_pred"
   ]
  },
  {
   "cell_type": "code",
   "execution_count": 7,
   "metadata": {},
   "outputs": [
    {
     "data": {
      "text/plain": [
       "array([17,  7, 10, ..., 14, 12, 11])"
      ]
     },
     "execution_count": 7,
     "metadata": {},
     "output_type": "execute_result"
    }
   ],
   "source": [
    "#MEDIDAS DE EVALUACION EXTERNA\n",
    "from sklearn.metrics import homogeneity_completeness_v_measure, adjusted_rand_score\n",
    "\n",
    "clases = datos.target\n",
    "clases"
   ]
  },
  {
   "cell_type": "code",
   "execution_count": 8,
   "metadata": {},
   "outputs": [
    {
     "name": "stdout",
     "output_type": "stream",
     "text": [
      "(0.05701504495109323, 0.07904323547167809, 0.0662459294574962)\n"
     ]
    }
   ],
   "source": [
    "#La función homogeneity_completeness_v_measure nos devuelve una tupla con la homogeneidad, la completación y la medida v\n",
    "#SE IMPRIMEN LAS MEDIDAS EXTERNAS, HOMOGENEIDAD, COMPLETEZ, LA MEDIDA V\n",
    "#SE DAN LOS VALORES REALES Y SE DAN LOS VALORES PREDICHOS\n",
    "print(homogeneity_completeness_v_measure(clases, etiquetas_pred))"
   ]
  },
  {
   "cell_type": "markdown",
   "metadata": {},
   "source": [
    "**METODO DE CLUSTER NO ESTA HECHO PARA HACER PREDICCIONES NO ESPERES BUENOS RESULTADOS DE PREDICCION**"
   ]
  },
  {
   "cell_type": "code",
   "execution_count": 9,
   "metadata": {},
   "outputs": [
    {
     "name": "stdout",
     "output_type": "stream",
     "text": [
      "(0.07904323547167807, 0.05701504495109322, 0.0662459294574962)\n"
     ]
    }
   ],
   "source": [
    "#Vemos que estos clusters tienen mas completación que homogeneidad (es decir, los clusters son menos homogéneos que la homogeneidad de la distribución de las clases en clusters.\n",
    "\n",
    "#El v-measure tiene un rango de (0, 1) con lo cual estos clusters no son muy buenos.\n",
    "\n",
    "#Un problema que tiene el criterio de homogeneidad y completación es que no son invariantes del orden de las clases.\n",
    "\n",
    "print(homogeneity_completeness_v_measure(etiquetas_pred, clases))"
   ]
  },
  {
   "cell_type": "code",
   "execution_count": 10,
   "metadata": {},
   "outputs": [
    {
     "name": "stdout",
     "output_type": "stream",
     "text": [
      "0.020046031128384836\n",
      "0.020046031128384836\n"
     ]
    }
   ],
   "source": [
    "#Para datasets de menos de 1000 observaciones o para un número de clusters mayor que 10, se recomienda usar el Indice de Rand ajustado, adjusted_rand_score.\n",
    "#PARA CLUSTERS DE MAS DE 10 SE USA LA MEDIDA AJUSTADA\n",
    "print(adjusted_rand_score(clases, etiquetas_pred))\n",
    "print(adjusted_rand_score(etiquetas_pred, clases))"
   ]
  },
  {
   "cell_type": "markdown",
   "metadata": {},
   "source": [
    "La métrica ARI tiene un rango de (-1,1) asi que pese a que este grupo de clusters no es el peor, no es muy bueno\n",
    "\n",
    "Podemos usar medidas de evaluación externa para hacer validación cruzada como haríamos con cualquier problema de regresión/clasificación.\n",
    "\n",
    "Métricas definidas en cross_val_score incluyen:\n",
    "\n",
    "- **adjusted_rand_score**\n",
    "- **completeness_score**\n",
    "- **homogeneity_score**\n",
    "- **v_measure_score**"
   ]
  },
  {
   "cell_type": "code",
   "execution_count": 11,
   "metadata": {},
   "outputs": [
    {
     "name": "stdout",
     "output_type": "stream",
     "text": [
      "Datos de validacion de cruzada:\n",
      "0.019443826922611006\n"
     ]
    }
   ],
   "source": [
    "#SE PUEDE HACER LA VALIDACION CRUZADA PERO LA LOGICA ES LA MISMA, CASI NUNCA SE OBTIENEN BUENOS RESULTADOS\n",
    "from sklearn.model_selection import cross_val_score\n",
    "\n",
    "resultados = cross_val_score(X=noticias, y=clases, estimator=MiniBatchKMeans(), \n",
    "                             scoring=\"adjusted_rand_score\", cv=5)\n",
    "print(\"Datos de validacion de cruzada:\")\n",
    "print(resultados.mean())"
   ]
  },
  {
   "cell_type": "code",
   "execution_count": 12,
   "metadata": {},
   "outputs": [
    {
     "name": "stdout",
     "output_type": "stream",
     "text": [
      "Coeficiente de silueta\n",
      "-0.07104590850763973\n",
      "(5, 0.01324346252702793)\n",
      "(10, -0.017728164451369273)\n",
      "(20, -0.07934842059413448)\n",
      "(30, -0.035259804549091014)\n"
     ]
    }
   ],
   "source": [
    "#Medidas de evaluación interna¶\n",
    "\n",
    "#Dichas medidas se usan cuando las clases verdaderas no se conocen de antemano\n",
    "\n",
    "from sklearn.metrics import silhouette_score\n",
    "\n",
    "#Estas medidas internas se usan en sklearn pasando dos argumentos, el dataset de entrenamiento y las etiquetas de los clusters.\n",
    "\n",
    "#En primer lugar tenemos el Coeficiente de Silueta (silhouette_score)\n",
    "\n",
    "print(\"Coeficiente de silueta\")\n",
    "print(silhouette_score(noticias, etiquetas_pred))\n",
    "\n",
    "#SE HACE UN FOR PARA VER COMO CAMBIA EL COEFICIENTE DE SILUETA ANTE DIFERENTES VALORES DE K(CLUSTER)\n",
    "for k in [5,10,20,30]:\n",
    "    estimador = MiniBatchKMeans(n_clusters=k)\n",
    "    estimador.fit(noticias)\n",
    "    etiquetas_pred = estimador.labels_\n",
    "    print(f\"{(k,silhouette_score(noticias, etiquetas_pred))}\")"
   ]
  },
  {
   "cell_type": "code",
   "execution_count": null,
   "metadata": {},
   "outputs": [],
   "source": []
  }
 ],
 "metadata": {
  "interpreter": {
   "hash": "83b617c66aa9ed92efeb8629453f4b5eb61ab11a86f5ad7ba589d02897e9d812"
  },
  "kernelspec": {
   "display_name": "Python 3.10.4 64-bit",
   "language": "python",
   "name": "python3"
  },
  "language_info": {
   "codemirror_mode": {
    "name": "ipython",
    "version": 3
   },
   "file_extension": ".py",
   "mimetype": "text/x-python",
   "name": "python",
   "nbconvert_exporter": "python",
   "pygments_lexer": "ipython3",
   "version": "3.10.4"
  },
  "orig_nbformat": 4
 },
 "nbformat": 4,
 "nbformat_minor": 2
}
