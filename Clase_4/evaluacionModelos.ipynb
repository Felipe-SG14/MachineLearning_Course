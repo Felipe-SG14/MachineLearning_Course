{
 "cells": [
  {
   "cell_type": "markdown",
   "metadata": {},
   "source": [
    "# Clase 4 - Evaluación modelo logistico"
   ]
  },
  {
   "cell_type": "markdown",
   "metadata": {},
   "source": [
    "## Librerias"
   ]
  },
  {
   "cell_type": "code",
   "execution_count": 30,
   "metadata": {},
   "outputs": [],
   "source": [
    "import matplotlib.pyplot as plt\n",
    "import pandas as pd\n",
    "import numpy as np\n",
    "from sklearn import datasets"
   ]
  },
  {
   "cell_type": "markdown",
   "metadata": {},
   "source": [
    "## Ejercicio\n",
    "\n"
   ]
  },
  {
   "cell_type": "markdown",
   "metadata": {},
   "source": [
    "Carga del dataset"
   ]
  },
  {
   "cell_type": "code",
   "execution_count": 31,
   "metadata": {},
   "outputs": [
    {
     "data": {
      "text/html": [
       "<div>\n",
       "<style scoped>\n",
       "    .dataframe tbody tr th:only-of-type {\n",
       "        vertical-align: middle;\n",
       "    }\n",
       "\n",
       "    .dataframe tbody tr th {\n",
       "        vertical-align: top;\n",
       "    }\n",
       "\n",
       "    .dataframe thead th {\n",
       "        text-align: right;\n",
       "    }\n",
       "</style>\n",
       "<table border=\"1\" class=\"dataframe\">\n",
       "  <thead>\n",
       "    <tr style=\"text-align: right;\">\n",
       "      <th></th>\n",
       "      <th>mean radius</th>\n",
       "      <th>mean texture</th>\n",
       "      <th>mean perimeter</th>\n",
       "      <th>mean area</th>\n",
       "      <th>mean smoothness</th>\n",
       "      <th>mean compactness</th>\n",
       "      <th>mean concavity</th>\n",
       "      <th>mean concave points</th>\n",
       "      <th>mean symmetry</th>\n",
       "      <th>mean fractal dimension</th>\n",
       "      <th>...</th>\n",
       "      <th>worst texture</th>\n",
       "      <th>worst perimeter</th>\n",
       "      <th>worst area</th>\n",
       "      <th>worst smoothness</th>\n",
       "      <th>worst compactness</th>\n",
       "      <th>worst concavity</th>\n",
       "      <th>worst concave points</th>\n",
       "      <th>worst symmetry</th>\n",
       "      <th>worst fractal dimension</th>\n",
       "      <th>objetivo</th>\n",
       "    </tr>\n",
       "  </thead>\n",
       "  <tbody>\n",
       "    <tr>\n",
       "      <th>0</th>\n",
       "      <td>17.99</td>\n",
       "      <td>10.38</td>\n",
       "      <td>122.80</td>\n",
       "      <td>1001.0</td>\n",
       "      <td>0.11840</td>\n",
       "      <td>0.27760</td>\n",
       "      <td>0.3001</td>\n",
       "      <td>0.14710</td>\n",
       "      <td>0.2419</td>\n",
       "      <td>0.07871</td>\n",
       "      <td>...</td>\n",
       "      <td>17.33</td>\n",
       "      <td>184.60</td>\n",
       "      <td>2019.0</td>\n",
       "      <td>0.1622</td>\n",
       "      <td>0.6656</td>\n",
       "      <td>0.7119</td>\n",
       "      <td>0.2654</td>\n",
       "      <td>0.4601</td>\n",
       "      <td>0.11890</td>\n",
       "      <td>1</td>\n",
       "    </tr>\n",
       "    <tr>\n",
       "      <th>1</th>\n",
       "      <td>20.57</td>\n",
       "      <td>17.77</td>\n",
       "      <td>132.90</td>\n",
       "      <td>1326.0</td>\n",
       "      <td>0.08474</td>\n",
       "      <td>0.07864</td>\n",
       "      <td>0.0869</td>\n",
       "      <td>0.07017</td>\n",
       "      <td>0.1812</td>\n",
       "      <td>0.05667</td>\n",
       "      <td>...</td>\n",
       "      <td>23.41</td>\n",
       "      <td>158.80</td>\n",
       "      <td>1956.0</td>\n",
       "      <td>0.1238</td>\n",
       "      <td>0.1866</td>\n",
       "      <td>0.2416</td>\n",
       "      <td>0.1860</td>\n",
       "      <td>0.2750</td>\n",
       "      <td>0.08902</td>\n",
       "      <td>1</td>\n",
       "    </tr>\n",
       "    <tr>\n",
       "      <th>2</th>\n",
       "      <td>19.69</td>\n",
       "      <td>21.25</td>\n",
       "      <td>130.00</td>\n",
       "      <td>1203.0</td>\n",
       "      <td>0.10960</td>\n",
       "      <td>0.15990</td>\n",
       "      <td>0.1974</td>\n",
       "      <td>0.12790</td>\n",
       "      <td>0.2069</td>\n",
       "      <td>0.05999</td>\n",
       "      <td>...</td>\n",
       "      <td>25.53</td>\n",
       "      <td>152.50</td>\n",
       "      <td>1709.0</td>\n",
       "      <td>0.1444</td>\n",
       "      <td>0.4245</td>\n",
       "      <td>0.4504</td>\n",
       "      <td>0.2430</td>\n",
       "      <td>0.3613</td>\n",
       "      <td>0.08758</td>\n",
       "      <td>1</td>\n",
       "    </tr>\n",
       "    <tr>\n",
       "      <th>3</th>\n",
       "      <td>11.42</td>\n",
       "      <td>20.38</td>\n",
       "      <td>77.58</td>\n",
       "      <td>386.1</td>\n",
       "      <td>0.14250</td>\n",
       "      <td>0.28390</td>\n",
       "      <td>0.2414</td>\n",
       "      <td>0.10520</td>\n",
       "      <td>0.2597</td>\n",
       "      <td>0.09744</td>\n",
       "      <td>...</td>\n",
       "      <td>26.50</td>\n",
       "      <td>98.87</td>\n",
       "      <td>567.7</td>\n",
       "      <td>0.2098</td>\n",
       "      <td>0.8663</td>\n",
       "      <td>0.6869</td>\n",
       "      <td>0.2575</td>\n",
       "      <td>0.6638</td>\n",
       "      <td>0.17300</td>\n",
       "      <td>1</td>\n",
       "    </tr>\n",
       "    <tr>\n",
       "      <th>4</th>\n",
       "      <td>20.29</td>\n",
       "      <td>14.34</td>\n",
       "      <td>135.10</td>\n",
       "      <td>1297.0</td>\n",
       "      <td>0.10030</td>\n",
       "      <td>0.13280</td>\n",
       "      <td>0.1980</td>\n",
       "      <td>0.10430</td>\n",
       "      <td>0.1809</td>\n",
       "      <td>0.05883</td>\n",
       "      <td>...</td>\n",
       "      <td>16.67</td>\n",
       "      <td>152.20</td>\n",
       "      <td>1575.0</td>\n",
       "      <td>0.1374</td>\n",
       "      <td>0.2050</td>\n",
       "      <td>0.4000</td>\n",
       "      <td>0.1625</td>\n",
       "      <td>0.2364</td>\n",
       "      <td>0.07678</td>\n",
       "      <td>1</td>\n",
       "    </tr>\n",
       "  </tbody>\n",
       "</table>\n",
       "<p>5 rows × 31 columns</p>\n",
       "</div>"
      ],
      "text/plain": [
       "   mean radius  mean texture  mean perimeter  mean area  mean smoothness  \\\n",
       "0        17.99         10.38          122.80     1001.0          0.11840   \n",
       "1        20.57         17.77          132.90     1326.0          0.08474   \n",
       "2        19.69         21.25          130.00     1203.0          0.10960   \n",
       "3        11.42         20.38           77.58      386.1          0.14250   \n",
       "4        20.29         14.34          135.10     1297.0          0.10030   \n",
       "\n",
       "   mean compactness  mean concavity  mean concave points  mean symmetry  \\\n",
       "0           0.27760          0.3001              0.14710         0.2419   \n",
       "1           0.07864          0.0869              0.07017         0.1812   \n",
       "2           0.15990          0.1974              0.12790         0.2069   \n",
       "3           0.28390          0.2414              0.10520         0.2597   \n",
       "4           0.13280          0.1980              0.10430         0.1809   \n",
       "\n",
       "   mean fractal dimension  ...  worst texture  worst perimeter  worst area  \\\n",
       "0                 0.07871  ...          17.33           184.60      2019.0   \n",
       "1                 0.05667  ...          23.41           158.80      1956.0   \n",
       "2                 0.05999  ...          25.53           152.50      1709.0   \n",
       "3                 0.09744  ...          26.50            98.87       567.7   \n",
       "4                 0.05883  ...          16.67           152.20      1575.0   \n",
       "\n",
       "   worst smoothness  worst compactness  worst concavity  worst concave points  \\\n",
       "0            0.1622             0.6656           0.7119                0.2654   \n",
       "1            0.1238             0.1866           0.2416                0.1860   \n",
       "2            0.1444             0.4245           0.4504                0.2430   \n",
       "3            0.2098             0.8663           0.6869                0.2575   \n",
       "4            0.1374             0.2050           0.4000                0.1625   \n",
       "\n",
       "   worst symmetry  worst fractal dimension  objetivo  \n",
       "0          0.4601                  0.11890         1  \n",
       "1          0.2750                  0.08902         1  \n",
       "2          0.3613                  0.08758         1  \n",
       "3          0.6638                  0.17300         1  \n",
       "4          0.2364                  0.07678         1  \n",
       "\n",
       "[5 rows x 31 columns]"
      ]
     },
     "execution_count": 31,
     "metadata": {},
     "output_type": "execute_result"
    }
   ],
   "source": [
    "cancer_datos = datasets.load_breast_cancer()\n",
    "cancer_df = pd.DataFrame(cancer_datos[\"data\"], columns=cancer_datos[\"feature_names\"])\n",
    "cancer_df[\"objetivo\"] = cancer_datos.target\n",
    "cancer_df[\"objetivo\"] = cancer_df[\"objetivo\"].replace({0:1, 1:0})\n",
    "cancer_df[\"objetivo\"].value_counts(True)\n",
    "cancer_df.head()"
   ]
  },
  {
   "cell_type": "markdown",
   "metadata": {},
   "source": [
    "**Modelo**"
   ]
  },
  {
   "cell_type": "code",
   "execution_count": 32,
   "metadata": {},
   "outputs": [],
   "source": [
    "from sklearn.linear_model import LogisticRegression\n",
    "from sklearn.model_selection import train_test_split\n",
    "from sklearn import metrics\n",
    "\n",
    "X = cancer_df[cancer_datos.feature_names]\n",
    "y = cancer_df[\"objetivo\"]\n",
    "X_train, X_test, y_train, y_test = train_test_split(X, y, test_size=0.3, random_state=42)"
   ]
  },
  {
   "cell_type": "code",
   "execution_count": 33,
   "metadata": {},
   "outputs": [
    {
     "data": {
      "text/plain": [
       "array([0, 1, 1, 0, 0, 1, 1, 1, 0, 0, 0, 1, 0, 1, 0, 1, 0, 0, 0, 1, 0, 0,\n",
       "       1, 0, 0, 0, 0, 0, 0, 1, 0, 0, 0, 0, 0, 0, 1, 0, 1, 0, 0, 1, 0, 0,\n",
       "       0, 0, 0, 0, 0, 0, 1, 1, 0, 0, 0, 0, 0, 1, 0, 0, 0, 1, 1, 0, 0, 0,\n",
       "       1, 1, 0, 0, 1, 1, 0, 1, 0, 0, 0, 0, 0, 0, 1, 0, 0, 1, 1, 1, 1, 1,\n",
       "       0, 0, 0, 0, 0, 0, 0, 0, 1, 1, 0, 1, 1, 0, 1, 1, 0, 0, 0, 1, 0, 0,\n",
       "       1, 0, 1, 1, 0, 1, 0, 0, 0, 1, 1, 0, 0, 1, 0, 1, 1, 0, 0, 1, 1, 1,\n",
       "       0, 0, 0, 1, 0, 0, 0, 1, 0, 1, 0, 0, 1, 0, 1, 1, 1, 0, 1, 0, 0, 0,\n",
       "       0, 1, 1, 0, 0, 0, 0, 0, 0, 0, 1, 0, 0, 0, 0, 1, 0])"
      ]
     },
     "execution_count": 33,
     "metadata": {},
     "output_type": "execute_result"
    }
   ],
   "source": [
    "modelo = LogisticRegression(solver='liblinear')\n",
    "modelo.fit(X_train,y_train)\n",
    "predicciones = modelo.predict(X_test)\n",
    "clases_reales = y_test\n",
    "predicciones"
   ]
  },
  {
   "cell_type": "code",
   "execution_count": 34,
   "metadata": {},
   "outputs": [
    {
     "data": {
      "text/plain": [
       "array([[8.15714037e-01, 1.84285963e-01],\n",
       "       [4.18623336e-09, 9.99999996e-01],\n",
       "       [2.28634155e-03, 9.97713658e-01],\n",
       "       [9.96494209e-01, 3.50579099e-03],\n",
       "       [9.99045853e-01, 9.54146911e-04],\n",
       "       [4.79454920e-10, 1.00000000e+00],\n",
       "       [9.20152843e-13, 1.00000000e+00],\n",
       "       [1.09832669e-02, 9.89016733e-01],\n",
       "       [9.96622137e-01, 3.37786321e-03],\n",
       "       [9.85580444e-01, 1.44195564e-02],\n",
       "       [9.30165060e-01, 6.98349400e-02],\n",
       "       [5.76476149e-04, 9.99423524e-01],\n",
       "       [9.88858332e-01, 1.11416676e-02],\n",
       "       [1.46840455e-01, 8.53159545e-01],\n",
       "       [9.96710736e-01, 3.28926432e-03],\n",
       "       [1.96935093e-03, 9.98030649e-01],\n",
       "       [9.96574023e-01, 3.42597666e-03],\n",
       "       [9.99616871e-01, 3.83129465e-04],\n",
       "       [9.97869585e-01, 2.13041510e-03],\n",
       "       [7.79640427e-08, 9.99999922e-01],\n",
       "       [8.40610203e-01, 1.59389797e-01],\n",
       "       [9.83108935e-01, 1.68910650e-02],\n",
       "       [7.02113701e-10, 9.99999999e-01],\n",
       "       [9.92994304e-01, 7.00569617e-03],\n",
       "       [9.86207632e-01, 1.37923677e-02],\n",
       "       [9.99222097e-01, 7.77903033e-04],\n",
       "       [9.96147200e-01, 3.85279984e-03],\n",
       "       [9.88142416e-01, 1.18575838e-02],\n",
       "       [9.92017001e-01, 7.98299908e-03],\n",
       "       [9.64354141e-09, 9.99999990e-01],\n",
       "       [9.91237085e-01, 8.76291547e-03],\n",
       "       [9.98456685e-01, 1.54331499e-03],\n",
       "       [9.74199706e-01, 2.58002940e-02],\n",
       "       [9.77359714e-01, 2.26402855e-02],\n",
       "       [9.97379752e-01, 2.62024773e-03],\n",
       "       [9.93011832e-01, 6.98816780e-03],\n",
       "       [3.92506045e-03, 9.96074940e-01],\n",
       "       [9.93368991e-01, 6.63100864e-03],\n",
       "       [5.00534601e-06, 9.99994995e-01],\n",
       "       [7.48929093e-01, 2.51070907e-01],\n",
       "       [9.96498531e-01, 3.50146879e-03],\n",
       "       [9.45286418e-04, 9.99054714e-01],\n",
       "       [9.97452186e-01, 2.54781396e-03],\n",
       "       [9.83284498e-01, 1.67155022e-02],\n",
       "       [9.97981914e-01, 2.01808587e-03],\n",
       "       [9.25766305e-01, 7.42336945e-02],\n",
       "       [9.97929804e-01, 2.07019598e-03],\n",
       "       [9.88999241e-01, 1.10007591e-02],\n",
       "       [8.87939503e-01, 1.12060497e-01],\n",
       "       [9.95567600e-01, 4.43239985e-03],\n",
       "       [8.06654081e-05, 9.99919335e-01],\n",
       "       [9.76719150e-10, 9.99999999e-01],\n",
       "       [8.57703681e-01, 1.42296319e-01],\n",
       "       [9.99351093e-01, 6.48907206e-04],\n",
       "       [9.97542605e-01, 2.45739484e-03],\n",
       "       [9.70576761e-01, 2.94232385e-02],\n",
       "       [9.96008486e-01, 3.99151446e-03],\n",
       "       [1.28785871e-14, 1.00000000e+00],\n",
       "       [6.30659284e-01, 3.69340716e-01],\n",
       "       [9.99257723e-01, 7.42277369e-04],\n",
       "       [9.78000645e-01, 2.19993550e-02],\n",
       "       [9.77133556e-08, 9.99999902e-01],\n",
       "       [4.00079969e-12, 1.00000000e+00],\n",
       "       [9.07045971e-01, 9.29540294e-02],\n",
       "       [9.94279900e-01, 5.72009992e-03],\n",
       "       [8.25728743e-01, 1.74271257e-01],\n",
       "       [2.16082136e-05, 9.99978392e-01],\n",
       "       [1.65394498e-09, 9.99999998e-01],\n",
       "       [9.97405267e-01, 2.59473331e-03],\n",
       "       [9.66713688e-01, 3.32863119e-02],\n",
       "       [3.34505470e-02, 9.66549453e-01],\n",
       "       [5.19238365e-05, 9.99948076e-01],\n",
       "       [9.97315705e-01, 2.68429537e-03],\n",
       "       [1.08813417e-01, 8.91186583e-01],\n",
       "       [9.57589319e-01, 4.24106809e-02],\n",
       "       [9.97108899e-01, 2.89110136e-03],\n",
       "       [9.52505947e-01, 4.74940527e-02],\n",
       "       [5.16048811e-01, 4.83951189e-01],\n",
       "       [9.97367284e-01, 2.63271605e-03],\n",
       "       [9.93753490e-01, 6.24650982e-03],\n",
       "       [1.39735067e-03, 9.98602649e-01],\n",
       "       [9.96036531e-01, 3.96346853e-03],\n",
       "       [6.55887449e-01, 3.44112551e-01],\n",
       "       [9.35251876e-12, 1.00000000e+00],\n",
       "       [1.29718410e-03, 9.98702816e-01],\n",
       "       [3.40847866e-02, 9.65915213e-01],\n",
       "       [1.98284266e-03, 9.98017157e-01],\n",
       "       [2.02545451e-07, 9.99999797e-01],\n",
       "       [9.90957121e-01, 9.04287864e-03],\n",
       "       [9.93644131e-01, 6.35586911e-03],\n",
       "       [9.80654930e-01, 1.93450703e-02],\n",
       "       [8.96372945e-01, 1.03627055e-01],\n",
       "       [8.74931115e-01, 1.25068885e-01],\n",
       "       [9.96911618e-01, 3.08838206e-03],\n",
       "       [9.98218518e-01, 1.78148219e-03],\n",
       "       [9.95853908e-01, 4.14609171e-03],\n",
       "       [3.09198632e-08, 9.99999969e-01],\n",
       "       [2.23741896e-06, 9.99997763e-01],\n",
       "       [9.99459345e-01, 5.40655064e-04],\n",
       "       [1.05629872e-04, 9.99894370e-01],\n",
       "       [1.92975146e-04, 9.99807025e-01],\n",
       "       [9.99682762e-01, 3.17237810e-04],\n",
       "       [2.38100206e-09, 9.99999998e-01],\n",
       "       [1.83361175e-03, 9.98166388e-01],\n",
       "       [8.95780761e-01, 1.04219239e-01],\n",
       "       [9.25289214e-01, 7.47107864e-02],\n",
       "       [9.84825810e-01, 1.51741900e-02],\n",
       "       [0.00000000e+00, 1.00000000e+00],\n",
       "       [9.67868371e-01, 3.21316289e-02],\n",
       "       [8.89624591e-01, 1.10375409e-01],\n",
       "       [2.05189487e-04, 9.99794811e-01],\n",
       "       [9.95075289e-01, 4.92471087e-03],\n",
       "       [2.57782502e-01, 7.42217498e-01],\n",
       "       [0.00000000e+00, 1.00000000e+00],\n",
       "       [9.01210900e-01, 9.87891004e-02],\n",
       "       [7.58215712e-11, 1.00000000e+00],\n",
       "       [9.98651133e-01, 1.34886682e-03],\n",
       "       [8.84965902e-01, 1.15034098e-01],\n",
       "       [9.98140073e-01, 1.85992715e-03],\n",
       "       [1.16166974e-03, 9.98838330e-01],\n",
       "       [2.53843673e-01, 7.46156327e-01],\n",
       "       [9.97309702e-01, 2.69029766e-03],\n",
       "       [9.85458648e-01, 1.45413519e-02],\n",
       "       [2.33975334e-05, 9.99976602e-01],\n",
       "       [9.32024081e-01, 6.79759188e-02],\n",
       "       [1.44345669e-09, 9.99999999e-01],\n",
       "       [1.34977670e-03, 9.98650223e-01],\n",
       "       [9.74404758e-01, 2.55952416e-02],\n",
       "       [9.94856532e-01, 5.14346787e-03],\n",
       "       [1.39287626e-08, 9.99999986e-01],\n",
       "       [4.79616347e-14, 1.00000000e+00],\n",
       "       [5.65305085e-04, 9.99434695e-01],\n",
       "       [8.36536965e-01, 1.63463035e-01],\n",
       "       [9.97092672e-01, 2.90732795e-03],\n",
       "       [9.57314937e-01, 4.26850632e-02],\n",
       "       [5.42694968e-02, 9.45730503e-01],\n",
       "       [9.37309255e-01, 6.26907446e-02],\n",
       "       [9.92819802e-01, 7.18019767e-03],\n",
       "       [8.48018694e-01, 1.51981306e-01],\n",
       "       [1.38712569e-02, 9.86128743e-01],\n",
       "       [9.87930897e-01, 1.20691029e-02],\n",
       "       [7.54951657e-15, 1.00000000e+00],\n",
       "       [9.99104446e-01, 8.95554344e-04],\n",
       "       [9.99504356e-01, 4.95644356e-04],\n",
       "       [2.09922869e-02, 9.79007713e-01],\n",
       "       [9.79591567e-01, 2.04084333e-02],\n",
       "       [4.97084380e-06, 9.99995029e-01],\n",
       "       [1.32183747e-07, 9.99999868e-01],\n",
       "       [3.43264215e-01, 6.56735785e-01],\n",
       "       [9.92857170e-01, 7.14283047e-03],\n",
       "       [2.28913637e-02, 9.77108636e-01],\n",
       "       [9.98558416e-01, 1.44158400e-03],\n",
       "       [9.96860499e-01, 3.13950062e-03],\n",
       "       [9.52635680e-01, 4.73643195e-02],\n",
       "       [9.70168877e-01, 2.98311231e-02],\n",
       "       [2.22044605e-16, 1.00000000e+00],\n",
       "       [3.97997851e-04, 9.99602002e-01],\n",
       "       [9.57966521e-01, 4.20334786e-02],\n",
       "       [9.93199129e-01, 6.80087108e-03],\n",
       "       [9.99560057e-01, 4.39943335e-04],\n",
       "       [9.99996380e-01, 3.61966842e-06],\n",
       "       [9.84107847e-01, 1.58921528e-02],\n",
       "       [9.89675179e-01, 1.03248207e-02],\n",
       "       [9.94292134e-01, 5.70786582e-03],\n",
       "       [5.45425626e-02, 9.45457437e-01],\n",
       "       [9.83341482e-01, 1.66585178e-02],\n",
       "       [9.98905201e-01, 1.09479891e-03],\n",
       "       [7.19541467e-01, 2.80458533e-01],\n",
       "       [9.86120534e-01, 1.38794655e-02],\n",
       "       [8.45200443e-02, 9.15479956e-01],\n",
       "       [9.33919718e-01, 6.60802819e-02]])"
      ]
     },
     "execution_count": 34,
     "metadata": {},
     "output_type": "execute_result"
    }
   ],
   "source": [
    "predicciones_probabilidades = modelo.predict_proba(X_test)\n",
    "predicciones_probabilidades"
   ]
  },
  {
   "cell_type": "markdown",
   "metadata": {},
   "source": [
    "### Funciones para el calculo de Verdaderos positivos, verdaderos negativos, falsos positivos, falsos negativos"
   ]
  },
  {
   "cell_type": "code",
   "execution_count": 35,
   "metadata": {},
   "outputs": [
    {
     "data": {
      "text/plain": [
       "[(0, 0),\n",
       " (1, 1),\n",
       " (1, 1),\n",
       " (0, 0),\n",
       " (0, 0),\n",
       " (1, 1),\n",
       " (1, 1),\n",
       " (1, 1),\n",
       " (0, 0),\n",
       " (0, 0),\n",
       " (0, 0),\n",
       " (1, 1),\n",
       " (0, 0),\n",
       " (1, 1),\n",
       " (0, 0),\n",
       " (1, 1),\n",
       " (0, 0),\n",
       " (0, 0),\n",
       " (0, 0),\n",
       " (1, 1),\n",
       " (1, 0),\n",
       " (0, 0),\n",
       " (1, 1),\n",
       " (0, 0),\n",
       " (0, 0),\n",
       " (0, 0),\n",
       " (0, 0),\n",
       " (0, 0),\n",
       " (0, 0),\n",
       " (1, 1),\n",
       " (0, 0),\n",
       " (0, 0),\n",
       " (0, 0),\n",
       " (0, 0),\n",
       " (0, 0),\n",
       " (0, 0),\n",
       " (1, 1),\n",
       " (0, 0),\n",
       " (1, 1),\n",
       " (0, 0),\n",
       " (0, 0),\n",
       " (1, 1),\n",
       " (0, 0),\n",
       " (0, 0),\n",
       " (0, 0),\n",
       " (0, 0),\n",
       " (0, 0),\n",
       " (0, 0),\n",
       " (0, 0),\n",
       " (0, 0),\n",
       " (1, 1),\n",
       " (1, 1),\n",
       " (0, 0),\n",
       " (0, 0),\n",
       " (0, 0),\n",
       " (0, 0),\n",
       " (0, 0),\n",
       " (1, 1),\n",
       " (1, 0),\n",
       " (0, 0),\n",
       " (0, 0),\n",
       " (1, 1),\n",
       " (1, 1),\n",
       " (0, 0),\n",
       " (0, 0),\n",
       " (0, 0),\n",
       " (1, 1),\n",
       " (1, 1),\n",
       " (0, 0),\n",
       " (0, 0),\n",
       " (1, 1),\n",
       " (1, 1),\n",
       " (0, 0),\n",
       " (1, 1),\n",
       " (0, 0),\n",
       " (0, 0),\n",
       " (0, 0),\n",
       " (1, 0),\n",
       " (0, 0),\n",
       " (0, 0),\n",
       " (1, 1),\n",
       " (0, 0),\n",
       " (1, 0),\n",
       " (1, 1),\n",
       " (1, 1),\n",
       " (1, 1),\n",
       " (1, 1),\n",
       " (1, 1),\n",
       " (0, 0),\n",
       " (0, 0),\n",
       " (0, 0),\n",
       " (0, 0),\n",
       " (0, 0),\n",
       " (0, 0),\n",
       " (0, 0),\n",
       " (0, 0),\n",
       " (1, 1),\n",
       " (1, 1),\n",
       " (0, 0),\n",
       " (1, 1),\n",
       " (1, 1),\n",
       " (0, 0),\n",
       " (1, 1),\n",
       " (1, 1),\n",
       " (0, 0),\n",
       " (0, 0),\n",
       " (0, 0),\n",
       " (1, 1),\n",
       " (0, 0),\n",
       " (0, 0),\n",
       " (1, 1),\n",
       " (0, 0),\n",
       " (0, 1),\n",
       " (1, 1),\n",
       " (0, 0),\n",
       " (1, 1),\n",
       " (0, 0),\n",
       " (0, 0),\n",
       " (0, 0),\n",
       " (1, 1),\n",
       " (0, 1),\n",
       " (0, 0),\n",
       " (0, 0),\n",
       " (1, 1),\n",
       " (0, 0),\n",
       " (1, 1),\n",
       " (1, 1),\n",
       " (0, 0),\n",
       " (0, 0),\n",
       " (1, 1),\n",
       " (1, 1),\n",
       " (1, 1),\n",
       " (0, 0),\n",
       " (0, 0),\n",
       " (0, 0),\n",
       " (1, 1),\n",
       " (0, 0),\n",
       " (0, 0),\n",
       " (0, 0),\n",
       " (1, 1),\n",
       " (0, 0),\n",
       " (1, 1),\n",
       " (0, 0),\n",
       " (0, 0),\n",
       " (1, 1),\n",
       " (0, 0),\n",
       " (1, 1),\n",
       " (1, 1),\n",
       " (1, 1),\n",
       " (0, 0),\n",
       " (1, 1),\n",
       " (0, 0),\n",
       " (0, 0),\n",
       " (0, 0),\n",
       " (0, 0),\n",
       " (1, 1),\n",
       " (1, 1),\n",
       " (0, 0),\n",
       " (0, 0),\n",
       " (0, 0),\n",
       " (0, 0),\n",
       " (0, 0),\n",
       " (0, 0),\n",
       " (0, 0),\n",
       " (1, 1),\n",
       " (0, 0),\n",
       " (0, 0),\n",
       " (0, 0),\n",
       " (0, 0),\n",
       " (1, 1),\n",
       " (0, 0)]"
      ]
     },
     "execution_count": 35,
     "metadata": {},
     "output_type": "execute_result"
    }
   ],
   "source": [
    "def tupla_clase_prediccion(y_real, y_pred):\n",
    "    return list(zip(y_real, y_pred))\n",
    "\n",
    "tupla_clase_prediccion(clases_reales,predicciones)"
   ]
  },
  {
   "cell_type": "code",
   "execution_count": 36,
   "metadata": {},
   "outputs": [],
   "source": [
    "def VP(clases_reales, predicciones):\n",
    "    par_clase_prediccion = tupla_clase_prediccion(clases_reales, predicciones)\n",
    "    return len([obs for obs in par_clase_prediccion if obs[0]==1 and obs[1]==1])\n",
    "\n",
    "def VN(clases_reales, predicciones):\n",
    "    par_clase_prediccion = tupla_clase_prediccion(clases_reales, predicciones)\n",
    "    return len([obs for obs in par_clase_prediccion if obs[0]==0 and obs[1]==0])\n",
    "    \n",
    "def FP(clases_reales, predicciones):\n",
    "    par_clase_prediccion = tupla_clase_prediccion(clases_reales, predicciones)\n",
    "    return len([obs for obs in par_clase_prediccion if obs[0]==0 and obs[1]==1])\n",
    "\n",
    "def FN(clases_reales, predicciones):\n",
    "    par_clase_prediccion = tupla_clase_prediccion(clases_reales, predicciones)\n",
    "    return len([obs for obs in par_clase_prediccion if obs[0]==1 and obs[1]==0])"
   ]
  },
  {
   "cell_type": "code",
   "execution_count": 37,
   "metadata": {},
   "outputs": [
    {
     "name": "stdout",
     "output_type": "stream",
     "text": [
      "\n",
      "Verdaderos Positivos: 59\n",
      "Verdaderos Negativos: 106\n",
      "Falsos Positivos: 2\n",
      "Falsos Negativos: 4\n",
      "\n"
     ]
    }
   ],
   "source": [
    "print(\"\"\"\n",
    "Verdaderos Positivos: {}\n",
    "Verdaderos Negativos: {}\n",
    "Falsos Positivos: {}\n",
    "Falsos Negativos: {}\n",
    "\"\"\".format(\n",
    "    VP(clases_reales, predicciones),\n",
    "    VN(clases_reales, predicciones),\n",
    "    FP(clases_reales, predicciones),\n",
    "    FN(clases_reales, predicciones)    \n",
    "))"
   ]
  },
  {
   "cell_type": "markdown",
   "metadata": {},
   "source": [
    "Exactitud y Precision del modelo"
   ]
  },
  {
   "cell_type": "code",
   "execution_count": 38,
   "metadata": {},
   "outputs": [
    {
     "name": "stdout",
     "output_type": "stream",
     "text": [
      "Exactitud: 0.9649122807017544\n",
      "Precision: 0.9672131147540983\n",
      "Precicion de SKlearn: 0.9291945711272717\n"
     ]
    }
   ],
   "source": [
    "#MEDIDA DE LA EXACTITUD\n",
    "def exactitud(clases_reales, predicciones):\n",
    "    vp = VP(clases_reales, predicciones)\n",
    "    vn = VN(clases_reales, predicciones)\n",
    "    return (vp+vn) / len(clases_reales)\n",
    "\n",
    "print(\"Exactitud:\",exactitud(clases_reales, predicciones))\n",
    "\n",
    "#MEDIDA DE PRESICION\n",
    "def precision(clases_reales, predicciones):\n",
    "    vp = VP(clases_reales, predicciones)\n",
    "    fp = FP(clases_reales, predicciones)\n",
    "    return vp / (vp+fp)\n",
    "\n",
    "#PARA SOLO UNA CLASIFICACION\n",
    "print(\"Precision:\",precision(clases_reales, predicciones))\n",
    "\n",
    "#PARA MAS CLASIFICACIONES\n",
    "print(\"Precicion de SKlearn:\",metrics.average_precision_score(clases_reales, predicciones))"
   ]
  },
  {
   "cell_type": "markdown",
   "metadata": {},
   "source": [
    "Sensibilidad del modelo"
   ]
  },
  {
   "cell_type": "code",
   "execution_count": 39,
   "metadata": {},
   "outputs": [
    {
     "name": "stdout",
     "output_type": "stream",
     "text": [
      "Sensibilidad:  0.9365079365079365\n",
      "Sensibilidad de SKLEARN:  0.9365079365079365\n"
     ]
    }
   ],
   "source": [
    "def sensibilidad(clases_reales, predicciones):\n",
    "    vp = VP(clases_reales, predicciones)\n",
    "    fn = FN(clases_reales, predicciones)\n",
    "    return vp / (vp+fn)\n",
    "\n",
    "print(\"Sensibilidad: \",sensibilidad(clases_reales, predicciones))\n",
    "print(\"Sensibilidad de SKLEARN: \", metrics.recall_score(clases_reales, predicciones))"
   ]
  },
  {
   "cell_type": "markdown",
   "metadata": {},
   "source": [
    "Matriz de confusion"
   ]
  },
  {
   "cell_type": "code",
   "execution_count": 40,
   "metadata": {},
   "outputs": [
    {
     "name": "stdout",
     "output_type": "stream",
     "text": [
      "Matriz de confusion:  [[106   2]\n",
      " [  4  59]]\n"
     ]
    }
   ],
   "source": [
    "#MATRIZ DE CONFUSION\n",
    "from sklearn.metrics import confusion_matrix\n",
    "print(\"Matriz de confusion: \",confusion_matrix(clases_reales, predicciones))"
   ]
  },
  {
   "cell_type": "markdown",
   "metadata": {},
   "source": [
    "Puntuacion F1"
   ]
  },
  {
   "cell_type": "code",
   "execution_count": 41,
   "metadata": {},
   "outputs": [
    {
     "name": "stdout",
     "output_type": "stream",
     "text": [
      "Puntuacion_f1:  0.9516129032258064\n",
      "Puntuacion_f1_Sklearn:  0.9516129032258064\n"
     ]
    }
   ],
   "source": [
    "#PUNTUACION F1 (MEDIA PONDERADA ENTRE SENSIBILIDAD Y LA PRECEISION)\n",
    "def puntuacion_f1(clases_reales, predicciones):\n",
    "    precision_preds = precision(clases_reales, predicciones)\n",
    "    sensibilidad_preds = sensibilidad(clases_reales, predicciones)\n",
    "    return 2*(precision_preds*sensibilidad_preds)/(precision_preds+sensibilidad_preds)\n",
    "\n",
    "print(\"Puntuacion_f1: \",puntuacion_f1(clases_reales, predicciones))\n",
    "\n",
    "#PUNTUACION F1 DE SKLEARN\n",
    "print(\"Puntuacion_f1_Sklearn: \",metrics.f1_score(clases_reales, predicciones))"
   ]
  },
  {
   "cell_type": "markdown",
   "metadata": {},
   "source": [
    "Ratio de falsas alarmas"
   ]
  },
  {
   "cell_type": "code",
   "execution_count": 42,
   "metadata": {},
   "outputs": [
    {
     "name": "stdout",
     "output_type": "stream",
     "text": [
      "Falsas_Alarmas:  0.018518518518518517\n"
     ]
    }
   ],
   "source": [
    "#RATIO DE FALSAS ALARMAS\n",
    "def fpr(clases_reales, predicciones):\n",
    "    return (FP(clases_reales, predicciones) / (\n",
    "             FP(clases_reales, predicciones) + VN(clases_reales, predicciones)\n",
    "             )\n",
    "           )\n",
    "print(\"Falsas_Alarmas: \",fpr(clases_reales, predicciones))"
   ]
  },
  {
   "cell_type": "markdown",
   "metadata": {},
   "source": [
    "Curva de precision"
   ]
  },
  {
   "cell_type": "code",
   "execution_count": 43,
   "metadata": {},
   "outputs": [],
   "source": [
    "#CURVA DE PRECISION\n",
    "def probabilidades_a_clases(predicciones_probabilidades, umbral=0.5):\n",
    "    predicciones = np.zeros([len(predicciones_probabilidades), ])\n",
    "    predicciones[predicciones_probabilidades[:,1]>=umbral] = 1\n",
    "    return predicciones"
   ]
  },
  {
   "cell_type": "markdown",
   "metadata": {},
   "source": [
    "## ¿Cómo clasifica un modelo?\n",
    "\n",
    "Un modelo como la regresión lineal funciona prediciendo distancias a una \"linea de decision\" que se convierten en probabilidades para cada clase. Pero a la hora de la verdad al modelo le suele interesar sólo saber que clase predice el modelo. En general esto se hace decidiendo un umbral (threshold) y clasificando los casos con menor probabilidad como clase negativa y mayor probabilidad como clase positiva."
   ]
  },
  {
   "cell_type": "code",
   "execution_count": 44,
   "metadata": {},
   "outputs": [
    {
     "data": {
      "text/html": [
       "<div>\n",
       "<style scoped>\n",
       "    .dataframe tbody tr th:only-of-type {\n",
       "        vertical-align: middle;\n",
       "    }\n",
       "\n",
       "    .dataframe tbody tr th {\n",
       "        vertical-align: top;\n",
       "    }\n",
       "\n",
       "    .dataframe thead th {\n",
       "        text-align: right;\n",
       "    }\n",
       "</style>\n",
       "<table border=\"1\" class=\"dataframe\">\n",
       "  <thead>\n",
       "    <tr style=\"text-align: right;\">\n",
       "      <th></th>\n",
       "      <th>clase_real</th>\n",
       "      <th>clase_pred</th>\n",
       "      <th>probabilidades_0</th>\n",
       "      <th>probabilidades_1</th>\n",
       "      <th>sum_probas</th>\n",
       "    </tr>\n",
       "  </thead>\n",
       "  <tbody>\n",
       "    <tr>\n",
       "      <th>204</th>\n",
       "      <td>0</td>\n",
       "      <td>0</td>\n",
       "      <td>8.157140e-01</td>\n",
       "      <td>0.184286</td>\n",
       "      <td>1.0</td>\n",
       "    </tr>\n",
       "    <tr>\n",
       "      <th>70</th>\n",
       "      <td>1</td>\n",
       "      <td>1</td>\n",
       "      <td>4.186233e-09</td>\n",
       "      <td>1.000000</td>\n",
       "      <td>1.0</td>\n",
       "    </tr>\n",
       "    <tr>\n",
       "      <th>131</th>\n",
       "      <td>1</td>\n",
       "      <td>1</td>\n",
       "      <td>2.286342e-03</td>\n",
       "      <td>0.997714</td>\n",
       "      <td>1.0</td>\n",
       "    </tr>\n",
       "    <tr>\n",
       "      <th>431</th>\n",
       "      <td>0</td>\n",
       "      <td>0</td>\n",
       "      <td>9.964942e-01</td>\n",
       "      <td>0.003506</td>\n",
       "      <td>1.0</td>\n",
       "    </tr>\n",
       "    <tr>\n",
       "      <th>540</th>\n",
       "      <td>0</td>\n",
       "      <td>0</td>\n",
       "      <td>9.990459e-01</td>\n",
       "      <td>0.000954</td>\n",
       "      <td>1.0</td>\n",
       "    </tr>\n",
       "    <tr>\n",
       "      <th>...</th>\n",
       "      <td>...</td>\n",
       "      <td>...</td>\n",
       "      <td>...</td>\n",
       "      <td>...</td>\n",
       "      <td>...</td>\n",
       "    </tr>\n",
       "    <tr>\n",
       "      <th>69</th>\n",
       "      <td>0</td>\n",
       "      <td>0</td>\n",
       "      <td>9.989052e-01</td>\n",
       "      <td>0.001095</td>\n",
       "      <td>1.0</td>\n",
       "    </tr>\n",
       "    <tr>\n",
       "      <th>542</th>\n",
       "      <td>0</td>\n",
       "      <td>0</td>\n",
       "      <td>7.195415e-01</td>\n",
       "      <td>0.280459</td>\n",
       "      <td>1.0</td>\n",
       "    </tr>\n",
       "    <tr>\n",
       "      <th>176</th>\n",
       "      <td>0</td>\n",
       "      <td>0</td>\n",
       "      <td>9.861205e-01</td>\n",
       "      <td>0.013879</td>\n",
       "      <td>1.0</td>\n",
       "    </tr>\n",
       "    <tr>\n",
       "      <th>501</th>\n",
       "      <td>1</td>\n",
       "      <td>1</td>\n",
       "      <td>8.452004e-02</td>\n",
       "      <td>0.915480</td>\n",
       "      <td>1.0</td>\n",
       "    </tr>\n",
       "    <tr>\n",
       "      <th>247</th>\n",
       "      <td>0</td>\n",
       "      <td>0</td>\n",
       "      <td>9.339197e-01</td>\n",
       "      <td>0.066080</td>\n",
       "      <td>1.0</td>\n",
       "    </tr>\n",
       "  </tbody>\n",
       "</table>\n",
       "<p>171 rows × 5 columns</p>\n",
       "</div>"
      ],
      "text/plain": [
       "     clase_real  clase_pred  probabilidades_0  probabilidades_1  sum_probas\n",
       "204           0           0      8.157140e-01          0.184286         1.0\n",
       "70            1           1      4.186233e-09          1.000000         1.0\n",
       "131           1           1      2.286342e-03          0.997714         1.0\n",
       "431           0           0      9.964942e-01          0.003506         1.0\n",
       "540           0           0      9.990459e-01          0.000954         1.0\n",
       "..          ...         ...               ...               ...         ...\n",
       "69            0           0      9.989052e-01          0.001095         1.0\n",
       "542           0           0      7.195415e-01          0.280459         1.0\n",
       "176           0           0      9.861205e-01          0.013879         1.0\n",
       "501           1           1      8.452004e-02          0.915480         1.0\n",
       "247           0           0      9.339197e-01          0.066080         1.0\n",
       "\n",
       "[171 rows x 5 columns]"
      ]
     },
     "execution_count": 44,
     "metadata": {},
     "output_type": "execute_result"
    }
   ],
   "source": [
    "df = pd.DataFrame({\"clase_real\":clases_reales,\n",
    "                   \"clase_pred\": predicciones,\n",
    "                   \"probabilidades_0\":modelo.predict_proba(X_test)[:,0],\n",
    "                    \"probabilidades_1\":modelo.predict_proba(X_test)[:,1],\n",
    "                 })\n",
    "df['sum_probas'] = df.probabilidades_0 + df.probabilidades_1\n",
    "df"
   ]
  },
  {
   "cell_type": "markdown",
   "metadata": {},
   "source": [
    "**CON LO SIGUIENTE SE VE COMO LA MAQUINA ELIGE LA PROBABILIDAD DE QUE ES MAYOR A 0.5**"
   ]
  },
  {
   "cell_type": "code",
   "execution_count": 45,
   "metadata": {},
   "outputs": [
    {
     "data": {
      "application/vnd.jupyter.widget-view+json": {
       "model_id": "60575bdcf9fd438bae57e3af9501cb50",
       "version_major": 2,
       "version_minor": 0
      },
      "text/plain": [
       "interactive(children=(FloatSlider(value=0.01, description='umbral', max=0.99, min=0.01, step=0.01), Output()),…"
      ]
     },
     "metadata": {},
     "output_type": "display_data"
    }
   ],
   "source": [
    "from ipywidgets import widgets, fixed, interact\n",
    "@interact(umbral=widgets.FloatSlider(min=0.01, max=0.99, step=0.01, value=0.01))\n",
    "def evaluar_umbral(umbral):\n",
    "    predicciones_en_umbral = probabilidades_a_clases(predicciones_probabilidades, umbral)\n",
    "    sensibilidad_umbral = metrics.recall_score(clases_reales, predicciones_en_umbral)\n",
    "    fpr_umbral = fpr(clases_reales, predicciones_en_umbral)\n",
    "    precision_umbral = precision(clases_reales, predicciones_en_umbral) \n",
    "    print( \"\"\"\n",
    "    Precision: {:.3f}\n",
    "    Sensibilidad:{:.3f}\n",
    "    Ratio de Alarma: {:.3f}\n",
    "    \"\"\".format(\n",
    "        precision_umbral,\n",
    "        sensibilidad_umbral,\n",
    "        fpr_umbral\n",
    "    ))"
   ]
  },
  {
   "cell_type": "code",
   "execution_count": 46,
   "metadata": {},
   "outputs": [],
   "source": [
    "#EVALUAR UMBRALA LO LARGO DE TODO EL DOMINION\n",
    "def evaluar_umbral(umbral):\n",
    "    predicciones_en_umbral = probabilidades_a_clases(predicciones_probabilidades, umbral)\n",
    "    precision_umbral = precision(clases_reales, predicciones_en_umbral)\n",
    "    sensibilidad_umbral = metrics.recall_score(clases_reales, predicciones_en_umbral)\n",
    "    fpr_umbral = fpr(clases_reales, predicciones_en_umbral)\n",
    "    return precision_umbral, sensibilidad_umbral, fpr_umbral"
   ]
  },
  {
   "cell_type": "code",
   "execution_count": 47,
   "metadata": {},
   "outputs": [
    {
     "data": {
      "image/png": "[encoded data removed]",
      "text/plain": [
       "<Figure size 432x288 with 1 Axes>"
      ]
     },
     "metadata": {
      "needs_background": "light"
     },
     "output_type": "display_data"
    }
   ],
   "source": [
    "rango_umbral = np.linspace(0., 1., 1000)\n",
    "sensibilidad_umbrales = []\n",
    "precision_umbrales = []\n",
    "fpr_umbrales = []\n",
    "\n",
    "for umbral in rango_umbral:\n",
    "    precision_umbral, sensibilidad_umbral, fpr_umbral = evaluar_umbral(umbral)\n",
    "    precision_umbrales.append(precision_umbral)\n",
    "    sensibilidad_umbrales.append(sensibilidad_umbral)\n",
    "    fpr_umbrales.append(fpr_umbral)\n",
    "\n",
    "plt.plot(sensibilidad_umbrales, precision_umbrales);\n",
    "plt.ylabel(\"Precision\")\n",
    "plt.xlabel(\"Ratio de Verdaderos positivos (sensibilidad)\")\n",
    "plt.title(\"Curva Precision-Recall\");\n",
    "plt.show()"
   ]
  },
  {
   "cell_type": "code",
   "execution_count": 48,
   "metadata": {},
   "outputs": [
    {
     "data": {
      "image/png": "[encoded data removed]",
      "text/plain": [
       "<Figure size 432x288 with 1 Axes>"
      ]
     },
     "metadata": {
      "needs_background": "light"
     },
     "output_type": "display_data"
    }
   ],
   "source": [
    "#RATIOS DE CURVAS \n",
    "def grafica_precision_recall(clases_reales, predicciones_probabilidades):\n",
    "    precision_, recall_, _ = metrics.precision_recall_curve(\n",
    "        clases_reales, predicciones_probabilidades[:,1])\n",
    "\n",
    "    plt.step(recall_, precision_, color='b', alpha=0.2,\n",
    "         where='post')\n",
    "    plt.fill_between(recall_, precision_, step='post', alpha=0.2,\n",
    "                 color='b')\n",
    "\n",
    "    plt.xlabel('Recall')\n",
    "    plt.ylabel('Precision')\n",
    "    plt.ylim([0.0, 1.05])\n",
    "    plt.xlim([0.0, 1.05])\n",
    "    plt.title('Curva Precision-Recall');\n",
    "    plt.show()\n",
    "\n",
    "grafica_precision_recall(clases_reales, predicciones_probabilidades)"
   ]
  },
  {
   "cell_type": "code",
   "execution_count": 49,
   "metadata": {},
   "outputs": [
    {
     "data": {
      "image/png": "[encoded data removed]",
      "text/plain": [
       "<Figure size 432x288 with 1 Axes>"
      ]
     },
     "metadata": {
      "needs_background": "light"
     },
     "output_type": "display_data"
    },
    {
     "name": "stdout",
     "output_type": "stream",
     "text": [
      "ROC:  0.958994708994709\n"
     ]
    }
   ],
   "source": [
    "plt.plot(fpr_umbrales, sensibilidad_umbrales);\n",
    "plt.xlabel(\"Ratio de Falsos positivos (FPR)\")\n",
    "plt.ylabel(\"Ratio de Verdaderos positivos (sensibilidad)\")\n",
    "plt.title(\"Curva ROC\");\n",
    "plt.show()\n",
    "print(\"ROC: \",metrics.roc_auc_score(clases_reales, predicciones))"
   ]
  },
  {
   "cell_type": "code",
   "execution_count": 50,
   "metadata": {},
   "outputs": [
    {
     "data": {
      "image/png": "[encoded data removed]",
      "text/plain": [
       "<Figure size 432x288 with 1 Axes>"
      ]
     },
     "metadata": {
      "needs_background": "light"
     },
     "output_type": "display_data"
    }
   ],
   "source": [
    "#CURVA AUC\n",
    "def grafica_curva_auc(clases_reales, predicciones, predicciones_probabilidades):\n",
    "    fpr, tpr, _ = metrics.roc_curve(clases_reales, predicciones_probabilidades[:,1])\n",
    "    roc_auc = metrics.roc_auc_score(clases_reales, predicciones)\n",
    "    plt.figure()\n",
    "\n",
    "    plt.plot(fpr, tpr, color='darkorange',\n",
    "         lw=2, label='Curva ROC (area = %0.2f)' % roc_auc)\n",
    "    plt.plot([0, 1], [0, 1], color='navy', lw=2, linestyle='--', label=\"estimador aleatorio\")\n",
    "    \n",
    "    plt.xlim([0.0, 1.0])\n",
    "    plt.ylim([0.0, 1.05])\n",
    "    plt.xlabel('FPR')\n",
    "    plt.ylabel('TPR (recall)')\n",
    "    plt.title('Curva ROC')\n",
    "    plt.legend(loc=\"lower right\")\n",
    "    plt.show();\n",
    "\n",
    "#LA CURVA ROC DEBE QUEDAR ENCIMA DE LA DIAGONAL\n",
    "grafica_curva_auc(clases_reales, predicciones, predicciones_probabilidades)\n"
   ]
  },
  {
   "cell_type": "code",
   "execution_count": 51,
   "metadata": {},
   "outputs": [
    {
     "name": "stdout",
     "output_type": "stream",
     "text": [
      "Resumen de los resultados\n",
      "\n",
      "    Exactitud: 0.965\n",
      "    Precisión: 0.929\n",
      "    Sensibilidad: 0.937\n",
      "    Area bajo curva (AUC): 0.959\n",
      "    Puntuación F1: 0.952\n",
      "    \n"
     ]
    }
   ],
   "source": [
    "#UN RESUMEN DE LOS RESULTADOS\n",
    "def evaluar_modelo(clases_reales, predicciones, probabilidades):\n",
    "    exactitud = metrics.accuracy_score(clases_reales, predicciones)\n",
    "    precision = metrics.average_precision_score(clases_reales, predicciones)\n",
    "    sensibilidad = metrics.recall_score(clases_reales, predicciones)\n",
    "    roc_auc = metrics.roc_auc_score(clases_reales, predicciones)\n",
    "    f1 = metrics.f1_score(clases_reales, predicciones)\n",
    "    print(\"Resumen de los resultados\");\n",
    "    print(\"\"\"\n",
    "    Exactitud: {:.3f}\n",
    "    Precisión: {:.3f}\n",
    "    Sensibilidad: {:.3f}\n",
    "    Area bajo curva (AUC): {:.3f}\n",
    "    Puntuación F1: {:.3f}\n",
    "    \"\"\".format(\n",
    "        exactitud, \n",
    "        precision,\n",
    "        sensibilidad,\n",
    "        roc_auc,\n",
    "        f1\n",
    "    ))\n",
    "    \n",
    "evaluar_modelo(clases_reales, predicciones, predicciones_probabilidades)"
   ]
  },
  {
   "cell_type": "code",
   "execution_count": 52,
   "metadata": {},
   "outputs": [
    {
     "data": {
      "text/plain": [
       "array([[8.15714037e-01, 1.84285963e-01],\n",
       "       [4.18623336e-09, 9.99999996e-01],\n",
       "       [2.28634155e-03, 9.97713658e-01],\n",
       "       [9.96494209e-01, 3.50579099e-03],\n",
       "       [9.99045853e-01, 9.54146911e-04]])"
      ]
     },
     "execution_count": 52,
     "metadata": {},
     "output_type": "execute_result"
    }
   ],
   "source": [
    "#DECISION DEL UMBRAL\n",
    "\n",
    "import pandas as pd\n",
    "from sklearn import metrics\n",
    "from sklearn.linear_model import LogisticRegression\n",
    "from sklearn.model_selection import train_test_split\n",
    "\n",
    "cancer_datos = datasets.load_breast_cancer()\n",
    "\n",
    "cancer_df = pd.DataFrame(cancer_datos[\"data\"],\n",
    "                           columns=cancer_datos[\"feature_names\"]\n",
    "                          )\n",
    "\n",
    "cancer_df[\"objetivo\"] = cancer_datos.target\n",
    "cancer_df[\"objetivo\"] = cancer_df[\"objetivo\"].replace({0:1, 1:0})\n",
    "\n",
    "X = cancer_df[cancer_datos.feature_names]\n",
    "y = cancer_df[\"objetivo\"]\n",
    "\n",
    "X_train, X_test, y_train, y_test = train_test_split(X, y, test_size=0.3, random_state=42)\n",
    "\n",
    "modelo = LogisticRegression(solver=\"liblinear\")\n",
    "\n",
    "modelo.fit(X_train, y_train)\n",
    "\n",
    "predicciones = modelo.predict(X_test)\n",
    "clases_reales = y_test\n",
    "predicciones_probabilidades = modelo.predict_proba(X_test)\n",
    "\n",
    "probas = modelo.predict_proba(X_test)[:5]\n",
    "probas"
   ]
  },
  {
   "cell_type": "code",
   "execution_count": 53,
   "metadata": {},
   "outputs": [
    {
     "name": "stdout",
     "output_type": "stream",
     "text": [
      "Softmax:  0.8807970779778824\n"
     ]
    }
   ],
   "source": [
    "#ES UNA MEDIDA QUE MIDE EL COSTO DE LOS FALSOS NEGATIVOS Y POSITIVOS\n",
    "def softmax(coste_fp, coste_fn):\n",
    "    return np.exp(coste_fp) / (np.exp(coste_fn)+np.exp(coste_fp))\n",
    "\n",
    "coste_fn = 3\n",
    "coste_fp = 5\n",
    "print(\"Softmax: \", softmax(coste_fp, coste_fn))"
   ]
  },
  {
   "cell_type": "code",
   "execution_count": 54,
   "metadata": {},
   "outputs": [
    {
     "data": {
      "application/vnd.jupyter.widget-view+json": {
       "model_id": "07f2aeeeab4f44ee9e7e4d76ab33e3fd",
       "version_major": 2,
       "version_minor": 0
      },
      "text/plain": [
       "interactive(children=(FloatSlider(value=1.0, description='coste_fp', max=10.0, min=1.0), FloatSlider(value=1.0…"
      ]
     },
     "metadata": {},
     "output_type": "display_data"
    }
   ],
   "source": [
    "@interact\n",
    "def calculo_umbral(\n",
    "    coste_fp=widgets.FloatSlider(min=1, max=10, step=0.1, value=1),\n",
    "    coste_fn=widgets.FloatSlider(min=1, max=10, step=0.1, value=1),\n",
    "):\n",
    "    return softmax(coste_fp, coste_fn)"
   ]
  },
  {
   "cell_type": "code",
   "execution_count": 55,
   "metadata": {},
   "outputs": [
    {
     "data": {
      "text/plain": [
       "BusinessLogisticRegression(solver='liblinear')"
      ]
     },
     "execution_count": 55,
     "metadata": {},
     "output_type": "execute_result"
    }
   ],
   "source": [
    "#LA CLASE QUE DECIDE\n",
    "class BusinessLogisticRegression(LogisticRegression):\n",
    "        \n",
    "    def decision_de_negocio(self, X, coste_fp=1, coste_fn=1, *args, **kwargs):\n",
    "        probs = self.predict_proba(X)\n",
    "        umbral_decision = calculo_umbral(coste_fp, coste_fn)\n",
    "        print(\"Umbral de decision: {}\".format(umbral_decision))\n",
    "        decisiones = probabilidades_a_clases(probs, umbral_decision)\n",
    "        return decisiones\n",
    "        \n",
    "modelo_negocio = BusinessLogisticRegression(solver=\"liblinear\")\n",
    "\n",
    "modelo_negocio.fit(X_train, y_train)"
   ]
  },
  {
   "cell_type": "code",
   "execution_count": 56,
   "metadata": {},
   "outputs": [
    {
     "data": {
      "application/vnd.jupyter.widget-view+json": {
       "model_id": "420cb163002144ea987d0e876de57b1a",
       "version_major": 2,
       "version_minor": 0
      },
      "text/plain": [
       "interactive(children=(FloatSlider(value=1.0, description='coste_fp', max=10.0, min=1.0), FloatSlider(value=1.0…"
      ]
     },
     "metadata": {},
     "output_type": "display_data"
    }
   ],
   "source": [
    "@interact(\n",
    "    coste_fp=widgets.FloatSlider(min=1.,max=10.,step=.1,value=1.),\n",
    "    coste_fn=widgets.FloatSlider(min=1.,max=10.,step=.1,value=1.)\n",
    ")\n",
    "def decision_negocio(coste_fp, coste_fn):\n",
    "    predicciones = modelo_negocio.decision_de_negocio(X_test, coste_fp, coste_fn)\n",
    "    print(confusion_matrix(clases_reales, predicciones))"
   ]
  },
  {
   "cell_type": "code",
   "execution_count": null,
   "metadata": {},
   "outputs": [],
   "source": []
  }
 ],
 "metadata": {
  "interpreter": {
   "hash": "83b617c66aa9ed92efeb8629453f4b5eb61ab11a86f5ad7ba589d02897e9d812"
  },
  "kernelspec": {
   "display_name": "Python 3.10.4 64-bit",
   "language": "python",
   "name": "python3"
  },
  "language_info": {
   "codemirror_mode": {
    "name": "ipython",
    "version": 3
   },
   "file_extension": ".py",
   "mimetype": "text/x-python",
   "name": "python",
   "nbconvert_exporter": "python",
   "pygments_lexer": "ipython3",
   "version": "3.10.4"
  },
  "orig_nbformat": 4
 },
 "nbformat": 4,
 "nbformat_minor": 2
}
