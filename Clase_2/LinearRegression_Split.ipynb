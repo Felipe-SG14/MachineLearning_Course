{
 "cells": [
  {
   "cell_type": "markdown",
   "metadata": {},
   "source": [
    "# Clase 2 - Regresión Lineal - Partición de datos"
   ]
  },
  {
   "cell_type": "markdown",
   "metadata": {},
   "source": [
    "## Carga de Librerias"
   ]
  },
  {
   "cell_type": "code",
   "execution_count": 1,
   "metadata": {},
   "outputs": [],
   "source": [
    "import numpy as np\n",
    "import pandas as pd\n",
    "from sklearn.linear_model import LinearRegression\n",
    "from sklearn import metrics\n",
    "from sklearn import datasets #Contiene datasets predeterminados"
   ]
  },
  {
   "cell_type": "markdown",
   "metadata": {},
   "source": [
    "## Funciones"
   ]
  },
  {
   "cell_type": "markdown",
   "metadata": {},
   "source": [
    "Funciones para calculo de errores "
   ]
  },
  {
   "cell_type": "code",
   "execution_count": 2,
   "metadata": {},
   "outputs": [],
   "source": [
    "#FUNCION PARA OBTENER EL ERROR CUADRATICO MEDIO\n",
    "def rmse(objetivo, estimaciones):\n",
    "    return np.sqrt(metrics.mean_squared_error(objetivo, estimaciones)\n",
    "                  )\n",
    "#FUNCION PARA R2 AJUSTADO\n",
    "def adjusted_r2(objetivo, estimaciones, n, k):\n",
    "    r2 = metrics.r2_score(objetivo, estimaciones)\n",
    "    return 1 - (1-r2)*(n-1) / (n - k - 1)\n",
    "\n",
    "#EVALUAR MODELO\n",
    "#objetivo -> Variable objetivo a predecir\n",
    "#estimaciones -> Datos calculados con el modelo calculado\n",
    "#n -> Numero de observaciones (renglones-normalmente)\n",
    "#k -> Numero de variables independientes (columnas normalmente)\n",
    "def evaluar_modelo(objetivo, estimaciones, n, k):\n",
    "    return {\n",
    "              #DEVUELVE EL ERROR CUADRATICO MEDIO\n",
    "              \"rmse\": rmse(objetivo, estimaciones),\n",
    "              #DEVUELVE EL ERROR ABSOLUTO PROMEDIO\n",
    "              \"mae\": metrics.mean_absolute_error(objetivo, estimaciones),\n",
    "              #DEVUELVE EL R2 AJUSTADO\n",
    "              \"adjusted_r2\": adjusted_r2(objetivo, estimaciones, n, k)\n",
    "           }\n"
   ]
  },
  {
   "cell_type": "markdown",
   "metadata": {},
   "source": [
    "## Ejemplo - Utilizando todos los valores"
   ]
  },
  {
   "cell_type": "markdown",
   "metadata": {},
   "source": [
    "Primero de carga el dataset"
   ]
  },
  {
   "cell_type": "code",
   "execution_count": 3,
   "metadata": {},
   "outputs": [
    {
     "name": "stderr",
     "output_type": "stream",
     "text": [
      "c:\\Users\\felip\\AppData\\Local\\Programs\\Python\\Python310\\lib\\site-packages\\sklearn\\utils\\deprecation.py:87: FutureWarning: Function load_boston is deprecated; `load_boston` is deprecated in 1.0 and will be removed in 1.2.\n",
      "\n",
      "    The Boston housing prices dataset has an ethical problem. You can refer to\n",
      "    the documentation of this function for further details.\n",
      "\n",
      "    The scikit-learn maintainers therefore strongly discourage the use of this\n",
      "    dataset unless the purpose of the code is to study and educate about\n",
      "    ethical issues in data science and machine learning.\n",
      "\n",
      "    In this special case, you can fetch the dataset from the original\n",
      "    source::\n",
      "\n",
      "        import pandas as pd\n",
      "        import numpy as np\n",
      "\n",
      "\n",
      "        data_url = \"http://lib.stat.cmu.edu/datasets/boston\"\n",
      "        raw_df = pd.read_csv(data_url, sep=\"\\s+\", skiprows=22, header=None)\n",
      "        data = np.hstack([raw_df.values[::2, :], raw_df.values[1::2, :2]])\n",
      "        target = raw_df.values[1::2, 2]\n",
      "\n",
      "    Alternative datasets include the California housing dataset (i.e.\n",
      "    :func:`~sklearn.datasets.fetch_california_housing`) and the Ames housing\n",
      "    dataset. You can load the datasets as follows::\n",
      "\n",
      "        from sklearn.datasets import fetch_california_housing\n",
      "        housing = fetch_california_housing()\n",
      "\n",
      "    for the California housing dataset and::\n",
      "\n",
      "        from sklearn.datasets import fetch_openml\n",
      "        housing = fetch_openml(name=\"house_prices\", as_frame=True)\n",
      "\n",
      "    for the Ames housing dataset.\n",
      "    \n",
      "  warnings.warn(msg, category=FutureWarning)\n"
     ]
    }
   ],
   "source": [
    "boston = datasets.load_boston(); # Diccionario\n",
    "boston.keys();\n",
    "#SALIDA dict_keys(['data', 'target', 'feature_names', 'DESCR', 'filename'])\n",
    "#data : datos\n",
    "#target : variable objetivo\n",
    "#feature_names : nombres de variables\n",
    "#DESC : descripcion de los datos\n",
    "#filename : nombre del archivo y ruta"
   ]
  },
  {
   "cell_type": "markdown",
   "metadata": {},
   "source": [
    "Nótese que los keys dan acceso a diferentes datos del dataset.\n",
    "\n",
    "Contrucción del modelo"
   ]
  },
  {
   "cell_type": "code",
   "execution_count": 4,
   "metadata": {},
   "outputs": [
    {
     "data": {
      "text/plain": [
       "array([30.00384338, 25.02556238, 30.56759672, 28.60703649, 27.94352423])"
      ]
     },
     "execution_count": 4,
     "metadata": {},
     "output_type": "execute_result"
    }
   ],
   "source": [
    "#boston[data] contiene las primera 12 columnas\n",
    "#boston[target] contiene la ultima columna que es la variable a predecir\n",
    "modelo_ols = LinearRegression()\n",
    "modelo_ols.fit(X=boston['data'],y=boston['target'])\n",
    "modelo_ols_preds = modelo_ols.predict(boston['data'])\n",
    "modelo_ols_preds[0:5] #Primeras 5 predicciones"
   ]
  },
  {
   "cell_type": "markdown",
   "metadata": {},
   "source": [
    "Evaluando el modelo"
   ]
  },
  {
   "cell_type": "code",
   "execution_count": 5,
   "metadata": {},
   "outputs": [
    {
     "data": {
      "text/plain": [
       "{'rmse': 4.679191295697282,\n",
       " 'mae': 3.270862810900317,\n",
       " 'adjusted_r2': 0.7337897263724629}"
      ]
     },
     "execution_count": 5,
     "metadata": {},
     "output_type": "execute_result"
    }
   ],
   "source": [
    "resultados = {}\n",
    "n = boston['data'].shape[0]\n",
    "k = len(modelo_ols.coef_)\n",
    "resultados['ols'] = evaluar_modelo(boston['target'],modelo_ols_preds,n,k)\n",
    "resultados['ols']"
   ]
  },
  {
   "cell_type": "markdown",
   "metadata": {},
   "source": [
    "## Haciendo Split de los datos - Entrenamiento y Prueba"
   ]
  },
  {
   "cell_type": "markdown",
   "metadata": {},
   "source": [
    "Hasta este momento hemos usado todos los datos como entrenamiento, de modo que posiblemente tengamos problemas de sobreajuste y por lo tanto tengamos errores si introducimos datos nuevos. \n",
    "\n",
    "**Lo que haremos entonces es dividir la tabla para reentrenar el modelo.**"
   ]
  },
  {
   "cell_type": "code",
   "execution_count": 6,
   "metadata": {},
   "outputs": [],
   "source": [
    "# Libreria para hacer split\n",
    "from sklearn.model_selection import train_test_split"
   ]
  },
  {
   "cell_type": "markdown",
   "metadata": {},
   "source": [
    "**División de datos de prueba y entrenamiento**\n",
    "\n",
    "Se da los arreglos que contienen que contienen toda la tabla.\n",
    "\n",
    "El **test_size** elige el porcentaje de datos para usar como prueba, los datos son elegido aleatoriamente.\n",
    "\n",
    "**random_state** elige la semilla para la generación de números aleatorios."
   ]
  },
  {
   "cell_type": "code",
   "execution_count": 7,
   "metadata": {},
   "outputs": [
    {
     "name": "stdout",
     "output_type": "stream",
     "text": [
      "Tamaño de los datos independientes: \n",
      "(506, 13)\n",
      "Tamaño de los datos de entrenamiento: \n",
      "(339, 13) (339,)\n",
      "Tamaño de los datos de prueba: \n",
      "(167, 13) (167,)\n"
     ]
    }
   ],
   "source": [
    "print(\"Tamaño de los datos independientes: \")\n",
    "print(boston['data'].shape)\n",
    "\n",
    "#Division\n",
    "X_train, X_test, y_train, y_test = train_test_split(boston[\"data\"], \n",
    "                                                    boston[\"target\"],\n",
    "                                                    test_size=0.33, \n",
    "                                                    random_state=13)\n",
    "\n",
    "print(\"Tamaño de los datos de entrenamiento: \")\n",
    "print(X_train.shape, y_train.shape)\n",
    "print(\"Tamaño de los datos de prueba: \")\n",
    "print(X_test.shape, y_test.shape)"
   ]
  },
  {
   "cell_type": "markdown",
   "metadata": {},
   "source": [
    "### Creación del modelo con datos de entrenamiento"
   ]
  },
  {
   "cell_type": "markdown",
   "metadata": {},
   "source": [
    "Utilizando unicamente los valores de entrenamiento"
   ]
  },
  {
   "cell_type": "code",
   "execution_count": 8,
   "metadata": {},
   "outputs": [
    {
     "data": {
      "text/plain": [
       "{'rmse': 4.7217324545168475,\n",
       " 'mae': 3.30086799221536,\n",
       " 'adjusted_r2': 0.7314907015939042}"
      ]
     },
     "execution_count": 8,
     "metadata": {},
     "output_type": "execute_result"
    }
   ],
   "source": [
    "modelo_ols = LinearRegression()\n",
    "# Se ajusta el modelo con todos los datos de entrenamiento\n",
    "modelo_ols.fit(X = X_train, y = y_train)\n",
    "modelo_ols_train_preds = modelo_ols.predict(X_train)\n",
    "\n",
    "#Tamaños\n",
    "n = X_train.shape[0] # Registros o renglones\n",
    "k = len(modelo_ols.coef_) # Variables independientes\n",
    "#Obteniendo los resultados del modelo recién entrenado\n",
    "resultados[\"ols_train\"] = evaluar_modelo(\n",
    "                                          y_train,\n",
    "                                          modelo_ols_train_preds,\n",
    "                                          n,\n",
    "                                          k\n",
    "                                        ) \n",
    "\n",
    "resultados['ols_train']"
   ]
  },
  {
   "cell_type": "markdown",
   "metadata": {},
   "source": [
    "Hasta este momento solo se han utilizado los datos de entrenamiento unicamente\n",
    "\n",
    "Ahora se utiliza los datos de prueba"
   ]
  },
  {
   "cell_type": "code",
   "execution_count": 9,
   "metadata": {},
   "outputs": [
    {
     "data": {
      "text/plain": [
       "{'rmse': 4.784178251750683,\n",
       " 'mae': 3.558433720909813,\n",
       " 'adjusted_r2': 0.6887158654171637}"
      ]
     },
     "execution_count": 9,
     "metadata": {},
     "output_type": "execute_result"
    }
   ],
   "source": [
    "modelo_ols_test_preds = modelo_ols.predict(X_test)\n",
    "# Notese que el modelo no se altera, sigue entrenado con los datos de entrenamiento\n",
    "#Tamaños\n",
    "n = X_test.shape[0] # Registros o renglones respecto de la prueba\n",
    "k = len(modelo_ols.coef_) # Variables independientes\n",
    "resultados['ols_test'] = evaluar_modelo(y_test,modelo_ols_test_preds,n,k)\n",
    "resultados['ols_test']"
   ]
  },
  {
   "cell_type": "markdown",
   "metadata": {},
   "source": [
    "Presentando resultados\n",
    "- **ols** Modelo utilizando todos los datos\n",
    "- **ols_train** Modelo utilizando los datos de entrenamiento\n",
    "- **ols_test** Modelo utilizando los datos de prueba "
   ]
  },
  {
   "cell_type": "code",
   "execution_count": 10,
   "metadata": {},
   "outputs": [
    {
     "data": {
      "text/html": [
       "<div>\n",
       "<style scoped>\n",
       "    .dataframe tbody tr th:only-of-type {\n",
       "        vertical-align: middle;\n",
       "    }\n",
       "\n",
       "    .dataframe tbody tr th {\n",
       "        vertical-align: top;\n",
       "    }\n",
       "\n",
       "    .dataframe thead th {\n",
       "        text-align: right;\n",
       "    }\n",
       "</style>\n",
       "<table border=\"1\" class=\"dataframe\">\n",
       "  <thead>\n",
       "    <tr style=\"text-align: right;\">\n",
       "      <th></th>\n",
       "      <th>ols</th>\n",
       "      <th>ols_train</th>\n",
       "      <th>ols_test</th>\n",
       "    </tr>\n",
       "  </thead>\n",
       "  <tbody>\n",
       "    <tr>\n",
       "      <th>rmse</th>\n",
       "      <td>4.679191</td>\n",
       "      <td>4.721732</td>\n",
       "      <td>4.784178</td>\n",
       "    </tr>\n",
       "    <tr>\n",
       "      <th>mae</th>\n",
       "      <td>3.270863</td>\n",
       "      <td>3.300868</td>\n",
       "      <td>3.558434</td>\n",
       "    </tr>\n",
       "    <tr>\n",
       "      <th>adjusted_r2</th>\n",
       "      <td>0.733790</td>\n",
       "      <td>0.731491</td>\n",
       "      <td>0.688716</td>\n",
       "    </tr>\n",
       "  </tbody>\n",
       "</table>\n",
       "</div>"
      ],
      "text/plain": [
       "                  ols  ols_train  ols_test\n",
       "rmse         4.679191   4.721732  4.784178\n",
       "mae          3.270863   3.300868  3.558434\n",
       "adjusted_r2  0.733790   0.731491  0.688716"
      ]
     },
     "execution_count": 10,
     "metadata": {},
     "output_type": "execute_result"
    }
   ],
   "source": [
    "data = pd.DataFrame(resultados)\n",
    "data"
   ]
  },
  {
   "cell_type": "markdown",
   "metadata": {},
   "source": [
    "Como se observa, al momento de utilizar los datos de de entrenamiento y prueba se tiene un peor rendimiento.\n",
    "\n",
    "**Se debe tener menores errores cuando evaluamos el entrenamiento a diferencia de cuando evaluamos la prueba**"
   ]
  },
  {
   "cell_type": "markdown",
   "metadata": {},
   "source": [
    "## Validación cruzada"
   ]
  },
  {
   "cell_type": "markdown",
   "metadata": {},
   "source": [
    "Ahora se probará el modelo con diferentes semillas"
   ]
  },
  {
   "cell_type": "code",
   "execution_count": 11,
   "metadata": {},
   "outputs": [
    {
     "data": {
      "text/html": [
       "<div>\n",
       "<style scoped>\n",
       "    .dataframe tbody tr th:only-of-type {\n",
       "        vertical-align: middle;\n",
       "    }\n",
       "\n",
       "    .dataframe tbody tr th {\n",
       "        vertical-align: top;\n",
       "    }\n",
       "\n",
       "    .dataframe thead th {\n",
       "        text-align: right;\n",
       "    }\n",
       "</style>\n",
       "<table border=\"1\" class=\"dataframe\">\n",
       "  <thead>\n",
       "    <tr style=\"text-align: right;\">\n",
       "      <th></th>\n",
       "      <th>ols_train</th>\n",
       "      <th>ols_test</th>\n",
       "    </tr>\n",
       "  </thead>\n",
       "  <tbody>\n",
       "    <tr>\n",
       "      <th>rmse</th>\n",
       "      <td>4.794269</td>\n",
       "      <td>4.552365</td>\n",
       "    </tr>\n",
       "    <tr>\n",
       "      <th>mae</th>\n",
       "      <td>3.376419</td>\n",
       "      <td>3.148256</td>\n",
       "    </tr>\n",
       "    <tr>\n",
       "      <th>adjusted_r2</th>\n",
       "      <td>0.728804</td>\n",
       "      <td>0.702889</td>\n",
       "    </tr>\n",
       "  </tbody>\n",
       "</table>\n",
       "</div>"
      ],
      "text/plain": [
       "             ols_train  ols_test\n",
       "rmse          4.794269  4.552365\n",
       "mae           3.376419  3.148256\n",
       "adjusted_r2   0.728804  0.702889"
      ]
     },
     "execution_count": 11,
     "metadata": {},
     "output_type": "execute_result"
    }
   ],
   "source": [
    "resultados2 = {}\n",
    "\n",
    "#Probando para la semilla 42\n",
    "X_train, X_test, y_train, y_test = train_test_split(\n",
    "     boston[\"data\"], boston[\"target\"],\n",
    "     test_size=0.33, random_state=42\n",
    ")\n",
    "\n",
    "#Creación del modelo\n",
    "modelo_ols = LinearRegression()\n",
    "modelo_ols.fit(X=X_train,y=y_train)\n",
    "modelo_ols_train_preds = modelo_ols.predict(X_train)\n",
    "modelo_ols_test_preds = modelo_ols.predict(X_test)\n",
    "\n",
    "#Resultados para prueba y entrenamiento\n",
    "resultados2[\"ols_train\"] = evaluar_modelo(\n",
    "    y_train,\n",
    "    modelo_ols_train_preds,\n",
    "    X_train.shape[0],\n",
    "    len(modelo_ols.coef_)\n",
    ")\n",
    "\n",
    "resultados2[\"ols_test\"] = evaluar_modelo(\n",
    "    y_test,\n",
    "    modelo_ols_test_preds,\n",
    "    X_test.shape[0],\n",
    "    len(modelo_ols.coef_)\n",
    ")\n",
    "data2=pd.DataFrame(resultados2)\n",
    "data2\n"
   ]
  },
  {
   "cell_type": "markdown",
   "metadata": {},
   "source": [
    "**¡El error en los datos de test es menor que en los de entrenamiento!** \n",
    "\n",
    "**¿Por qué?**\n",
    "\n",
    "Sencillamente, por que ha dado la casualidad de que hemos separado los datos de una forma que los datos de test son muy fáciles de estimar.\n",
    "\n",
    "Para ver la magnitud del error en el que estamos cayendo al hacer una sola separación entre test y entrenamiento, vamos a probar diferentes semillas y ver cual es el rango del error que se puede obtener."
   ]
  },
  {
   "cell_type": "markdown",
   "metadata": {},
   "source": [
    "Función para probar diferentes semillas"
   ]
  },
  {
   "cell_type": "code",
   "execution_count": 12,
   "metadata": {},
   "outputs": [],
   "source": [
    "model = LinearRegression()\n",
    "results = []\n",
    "def test_seed(seed):\n",
    "    #SE CREA EL MODELO RECIBIENDO COMO PARAMETRO EL NUMERO DE SEMILLA\n",
    "    X_train, X_test, y_train, y_test = train_test_split(boston[\"data\"], boston[\"target\"],test_size=0.33, random_state=seed)\n",
    "    #SOLO SE OBTIENEN LAS PREDICCIONES DE LA PRUEBA\n",
    "    test_preds = model.fit(X_train, y_train).predict(X_test)\n",
    "    #SE OBTIENE EL ERROR DE LAS PRUEBAS\n",
    "    seed_rmse = rmse(y_test, test_preds)\n",
    "    #SE INSERTAN EN UNA LISTA LOS RESULTADOS, EL ERROR Y LA SEMILLA UTILIZADA\n",
    "    results.append([seed_rmse, seed])"
   ]
  },
  {
   "cell_type": "markdown",
   "metadata": {},
   "source": [
    "Probando las diferentes semillas"
   ]
  },
  {
   "cell_type": "code",
   "execution_count": 13,
   "metadata": {},
   "outputs": [],
   "source": [
    "for i in range(1000):\n",
    "  test_seed(i)"
   ]
  },
  {
   "cell_type": "markdown",
   "metadata": {},
   "source": [
    "Observando la peor y mejor semilla"
   ]
  },
  {
   "cell_type": "code",
   "execution_count": 14,
   "metadata": {},
   "outputs": [
    {
     "name": "stdout",
     "output_type": "stream",
     "text": [
      "Semilla con menor error: \n",
      "[3.63131421707693, 635]\n",
      "Semilla con mayor error: \n",
      "[6.788054714003124, 645]\n"
     ]
    }
   ],
   "source": [
    "results_sorted = sorted(results, key=lambda x:x[0], reverse = False)\n",
    "\n",
    "print(\"Semilla con menor error: \")\n",
    "print(results_sorted[0])\n",
    "\n",
    "print(\"Semilla con mayor error: \")\n",
    "print(results_sorted[-1])"
   ]
  },
  {
   "cell_type": "markdown",
   "metadata": {},
   "source": []
  },
  {
   "cell_type": "markdown",
   "metadata": {},
   "source": [
    "Utilizando la filosofia de validación cruzada"
   ]
  },
  {
   "cell_type": "code",
   "execution_count": 15,
   "metadata": {},
   "outputs": [
    {
     "name": "stdout",
     "output_type": "stream",
     "text": [
      "Resultados de la validación cruzada: \n",
      "[  -9.28694671  -14.15128316  -14.07360615  -35.20692433  -31.88511666\n",
      "  -19.83587796   -9.94726918 -168.37537954  -33.32974507  -10.96041068]\n",
      "Media de los resultados de la validación cruzada: \n",
      "-34.70525594452496\n"
     ]
    }
   ],
   "source": [
    "from sklearn.model_selection import cross_val_score\n",
    "\n",
    "X = boston['data']\n",
    "y = boston['target']\n",
    "\n",
    "#estimator -> Modelo, en este caso lineal\n",
    "#X -> variables independientes\n",
    "#y -> Variables Objetivo o a estimar\n",
    "#cv -> Numero de repeticiones\n",
    "#scoring -> La variable de la que toma referencia para hacer un mejor modelo\n",
    "#EN ESTE CASO HACE LA PARTICION DE DATOS DE MANERA ALEATORIA POR LO QUE EL MODELO ES MEJOR\n",
    "#EN ESTE CASO NO TOMAR EN CUENTA EL SIGNO MENOS\n",
    "results_cross_val = cross_val_score(estimator=modelo_ols,\n",
    "                                    X = X,\n",
    "                                    y = y,\n",
    "                                    scoring = 'neg_mean_squared_error',\n",
    "                                    cv=10\n",
    "                                    )\n",
    "\n",
    "print(\"Resultados de la validación cruzada: \")\n",
    "print(results_cross_val)\n",
    "\n",
    "print(\"Media de los resultados de la validación cruzada: \")\n",
    "print(results_cross_val.mean())"
   ]
  },
  {
   "cell_type": "markdown",
   "metadata": {},
   "source": [
    "Se define una función para calcular el error cuadratico medio de un modelo"
   ]
  },
  {
   "cell_type": "code",
   "execution_count": 16,
   "metadata": {},
   "outputs": [],
   "source": [
    "#ESTA FUNCION OBTIENE LA RAIZ DEL ERROR CUADRATICO MEDIO DE UN MODELO\n",
    "def rmse_cross_val(estimator, X, y):\n",
    "    y_pred = estimator.predict(X)\n",
    "    return np.sqrt(metrics.mean_squared_error(y, y_pred))"
   ]
  },
  {
   "cell_type": "markdown",
   "metadata": {},
   "source": [
    "En este caso se hace la prueba de validación cruzada de 10 hasta 200 pruebas"
   ]
  },
  {
   "cell_type": "code",
   "execution_count": 17,
   "metadata": {},
   "outputs": [],
   "source": [
    "resultados_cv = []\n",
    "for i in range(10,200):\n",
    "  cv_rmse = cross_val_score(estimator=modelo_ols, X=X,y=y,scoring=rmse_cross_val, cv=i).mean()\n",
    "  resultados_cv.append(cv_rmse)"
   ]
  },
  {
   "cell_type": "markdown",
   "metadata": {},
   "source": [
    "Gráficas"
   ]
  },
  {
   "cell_type": "code",
   "execution_count": 18,
   "metadata": {},
   "outputs": [
    {
     "data": {
      "image/png": "[encoded data removed]",
      "text/plain": [
       "<Figure size 432x288 with 1 Axes>"
      ]
     },
     "metadata": {
      "needs_background": "light"
     },
     "output_type": "display_data"
    }
   ],
   "source": [
    "import matplotlib.pyplot as plt\n",
    "plt.plot(resultados_cv)\n",
    "plt.show()"
   ]
  },
  {
   "cell_type": "markdown",
   "metadata": {},
   "source": [
    "En la gráfica se observa que entre mas particiones el error disminuye\n",
    "\n",
    "**CROSS VALIDATE PRACTICAMENTE HACE LO MISMO CON LAS DIFERENTES PARTICIONES PERO TOMANDO MAS DE UN SCORING COMO REFERENCIA**"
   ]
  },
  {
   "cell_type": "code",
   "execution_count": 19,
   "metadata": {},
   "outputs": [
    {
     "data": {
      "text/plain": [
       "fit_time      0.000628\n",
       "score_time    0.000483\n",
       "test_mae     -3.511687\n",
       "train_mae    -3.270699\n",
       "test_rmse     4.184166\n",
       "train_rmse    4.676971\n",
       "dtype: float64"
      ]
     },
     "execution_count": 19,
     "metadata": {},
     "output_type": "execute_result"
    }
   ],
   "source": [
    "from sklearn.model_selection import cross_validate\n",
    "scoring = {\"mae\": \"neg_mean_absolute_error\", \"rmse\": rmse_cross_val}\n",
    "estimator = modelo_ols\n",
    "scores = cross_validate(estimator, boston[\"data\"], boston[\"target\"], scoring=scoring, cv=100, return_train_score=True)\n",
    "\n",
    "last = pd.DataFrame(scores).mean()\n",
    "last"
   ]
  }
 ],
 "metadata": {
  "interpreter": {
   "hash": "83b617c66aa9ed92efeb8629453f4b5eb61ab11a86f5ad7ba589d02897e9d812"
  },
  "kernelspec": {
   "display_name": "Python 3.10.4 64-bit",
   "language": "python",
   "name": "python3"
  },
  "language_info": {
   "codemirror_mode": {
    "name": "ipython",
    "version": 3
   },
   "file_extension": ".py",
   "mimetype": "text/x-python",
   "name": "python",
   "nbconvert_exporter": "python",
   "pygments_lexer": "ipython3",
   "version": "3.10.4"
  },
  "orig_nbformat": 4
 },
 "nbformat": 4,
 "nbformat_minor": 2
}
